{
 "cells": [
  {
   "cell_type": "code",
   "execution_count": 1,
   "id": "de1d4d55",
   "metadata": {},
   "outputs": [
    {
     "name": "stdout",
     "output_type": "stream",
     "text": [
      "simran soni\n"
     ]
    }
   ],
   "source": [
    "print(\"simran soni\")"
   ]
  },
  {
   "cell_type": "code",
   "execution_count": 2,
   "id": "f1697b8e",
   "metadata": {},
   "outputs": [
    {
     "name": "stdout",
     "output_type": "stream",
     "text": [
      "i have to earn 1 lkh per month\n"
     ]
    }
   ],
   "source": [
    "print(\"i have to earn 1 lkh per month\")"
   ]
  },
  {
   "cell_type": "code",
   "execution_count": 3,
   "id": "bf213e53",
   "metadata": {},
   "outputs": [
    {
     "name": "stdout",
     "output_type": "stream",
     "text": [
      "i can do it if decide it\n"
     ]
    }
   ],
   "source": [
    "print(\"i can do it if decide it\")"
   ]
  },
  {
   "cell_type": "code",
   "execution_count": null,
   "id": "755b4432",
   "metadata": {},
   "outputs": [],
   "source": []
  }
 ],
 "metadata": {
  "kernelspec": {
   "display_name": "Python 3 (ipykernel)",
   "language": "python",
   "name": "python3"
  },
  "language_info": {
   "codemirror_mode": {
    "name": "ipython",
    "version": 3
   },
   "file_extension": ".py",
   "mimetype": "text/x-python",
   "name": "python",
   "nbconvert_exporter": "python",
   "pygments_lexer": "ipython3",
   "version": "3.11.5"
  }
 },
 "nbformat": 4,
 "nbformat_minor": 5
}
